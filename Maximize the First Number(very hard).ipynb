{
 "cells": [
  {
   "cell_type": "code",
   "execution_count": 6,
   "metadata": {
    "tags": []
   },
   "outputs": [
    {
     "output_type": "stream",
     "name": "stdout",
     "text": "877\n"
    }
   ],
   "source": [
    "https://edabit.com/challenge/FeNrBCG9rSdNeJTuX\n",
    "\n",
    "Maximize the First Number\n",
    "Write a function that makes the first number as large as possible by swapping out its digits for digits in the second number.\n",
    "\n",
    "To illustrate:\n",
    "\n",
    "max_possible(9328, 456) ➞ 9658\n",
    "# 9658 is the largest possible number built from swaps from 456.\n",
    "# 3 replaced with 6 and 2 replaced with 5.\n",
    "Examples\n",
    "max_possible(523, 76) ➞ 763\n",
    "\n",
    "max_possible(9132, 5564) ➞ 9655\n",
    "\n",
    "max_possible(8732, 91255) ➞ 9755\n",
    "Notes\n",
    "Each digit in the second number can only be used once.\n",
    "Zero to all digits in the second number may be used."
   ]
  },
  {
   "cell_type": "code",
   "execution_count": null,
   "metadata": {},
   "outputs": [],
   "source": [
    "def max_possible(n1, n2):\n",
    "\tK1=[int(i) for i in str(n1)]\n",
    "\tK2=[int(i) for i in str(n2)]\n",
    "\tfor i,n in enumerate(K1):\n",
    "\t\tif len(K2)<=0:\n",
    "\t\t\tbreak\n",
    "\t\tif n < max(K2):\n",
    "\t\t\tK1[i] = max(K2)\n",
    "\t\t\tK2.remove(K1[i])\n",
    "\treturn int(''.join([str(i) for i in K1]))"
   ]
  },
  {
   "cell_type": "code",
   "execution_count": null,
   "metadata": {},
   "outputs": [],
   "source": [
    "def max_possible(n1, n2):\n",
    "\tn1 = [int(i) for i in str(n1)]\n",
    "\tn2 = [int(i) for i in str(n2)]\n",
    "\tfor i in range(len(n1)):\n",
    "\t\tif n2 != []:\n",
    "\t\t\tif n1[i] < max(n2):\n",
    "\t\t\t\tn1[i] = max(n2)\n",
    "\t\t\t\tn2.remove(max(n2))\n",
    "\treturn int(''.join([str(i) for i in n1]))"
   ]
  },
  {
   "cell_type": "code",
   "execution_count": null,
   "metadata": {},
   "outputs": [],
   "source": [
    "def max_possible(n1, n2):\n",
    "\tn1, n2 = list(str(n1)),sorted(list(str(n2)))\n",
    "\ti = 0\n",
    "\n",
    "\twhile len(n2) > 0 and i in range(len(n1)):\n",
    "\t\tif n1[i] < n2[-1]:\n",
    "\t\t\tn1[i] = n2.pop()\n",
    "\t\ti += 1\n",
    "\treturn int(''.join(n1))"
   ]
  }
 ],
 "metadata": {
  "language_info": {
   "codemirror_mode": {
    "name": "ipython",
    "version": 3
   },
   "file_extension": ".py",
   "mimetype": "text/x-python",
   "name": "python",
   "nbconvert_exporter": "python",
   "pygments_lexer": "ipython3",
   "version": "3.8.2-final"
  },
  "orig_nbformat": 2,
  "kernelspec": {
   "name": "python38264bit3f4bc9d21b0a470cb598dcfc81df52f4",
   "display_name": "Python 3.8.2 64-bit"
  }
 },
 "nbformat": 4,
 "nbformat_minor": 2
}