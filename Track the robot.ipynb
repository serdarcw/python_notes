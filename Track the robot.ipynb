{
 "cells": [
  {
   "cell_type": "code",
   "execution_count": null,
   "metadata": {},
   "outputs": [],
   "source": [
    "Track the Robot (Part 1)\n",
    "A robot has been given a list of movement instructions. Each instruction is either left, right, up or down, followed by a distance to move. The robot starts at [0, 0]. You want to calculate where the robot will end up and return its final position as a list.\n",
    "\n",
    "To illustrate, if the robot is given the following instructions:\n",
    "\n",
    "[\"right 10\", \"up 50\", \"left 30\", \"down 10\"]\n",
    "It will end up 20 left and 40 up from where it started, so we return [-20, 40].\n",
    "\n",
    "Examples\n",
    "track_robot([\"right 10\", \"up 50\", \"left 30\", \"down 10\"]) ➞ [-20, 40]\n",
    "\n",
    "track_robot([]) ➞ [0, 0]\n",
    "// If there are no instructions, the robot doesn't move.\n",
    "\n",
    "track_robot([\"right 100\", \"right 100\", \"up 500\", \"up 10000\"]) ➞ [200, 10500]\n",
    "Notes\n",
    "The only instructions given will be left, right, up or down.\n",
    "The distance after the instruction is always a positive whole number."
   ]
  },
  {
   "cell_type": "code",
   "execution_count": null,
   "metadata": {},
   "outputs": [],
   "source": [
    "A=[\"right 100\", \"right 100\", \"up 500\", \"up 10000\"]\n",
    "B= []\n",
    "c=[0,0]\n",
    "for i in A:\n",
    "    y = i.split()\n",
    "    B.append(y)\n",
    "for i in B:\n",
    "    if i[0]=='left': c[0] += -int(i[1])\n",
    "    elif i[0]=='right': c[0] += int(i[1])\n",
    "    elif i[0]=='up': c[1] +=int(i[1])\n",
    "    elif i[0]=='down': c[1] += -int(i[1])\n",
    "c"
   ]
  },
  {
   "cell_type": "code",
   "execution_count": null,
   "metadata": {},
   "outputs": [],
   "source": [
    "def track_robot(instructions):\n",
    "    totals = {'left':0, 'right':0, 'up':0, 'down':0}\n",
    "    for step in instructions:\n",
    "        step = step.split()\n",
    "        totals[step[0]] += int(step[1])\n",
    "    return [totals['right'] - totals['left'], totals['up'] - totals['down']]"
   ]
  },
  {
   "cell_type": "code",
   "execution_count": null,
   "metadata": {},
   "outputs": [],
   "source": [
    "def track_robot(instructions):\n",
    "\tx,y=[],[]\n",
    "\t[x.append(int(h[1])) if h[0]==\"right\" else x.append(-int(h[1])) if h[0]==\"left\" else y.append(int(h[1])) if h[0]==\"up\" else y.append(-int(h[1]))  for h in [i.split() for i in instructions]]\n",
    "\treturn [sum(x),sum(y)]"
   ]
  },
  {
   "cell_type": "code",
   "execution_count": null,
   "metadata": {},
   "outputs": [],
   "source": [
    "def track_robot(instructions):\n",
    "\tinsts = [inst.split(\" \") for inst in instructions]\n",
    "\tmov = {}\n",
    "\tfor key, val in insts:\n",
    "\t\tmov[key] = mov.get(key, 0) + int(val)\n",
    "\treturn [mov.get('right', 0) - mov.get('left', 0), \n",
    "\t\t\tmov.get('up', 0) - mov.get('down', 0)]"
   ]
  },
  {
   "cell_type": "code",
   "execution_count": null,
   "metadata": {},
   "outputs": [],
   "source": [
    "def track_robot(instructions):\n",
    "\tx = 0\n",
    "\ty = 0\n",
    "\tfor entry in instructions:\n",
    "\t\tcmmnd = entry.split()\n",
    "\t\tdirec = cmmnd[0]\n",
    "\t\tdist = int(cmmnd[1])\n",
    "\t\tif direc == \"right\":\n",
    "\t\t\tx += dist\n",
    "\t\telif direc == \"left\":\n",
    "\t\t\tx -= dist\n",
    "\t\telif direc == \"up\":\n",
    "\t\t\ty += dist\n",
    "\t\telif direc == \"down\":\n",
    "\t\t\ty -= dist\n",
    "\treturn [x,y]"
   ]
  },
  {
   "cell_type": "code",
   "execution_count": null,
   "metadata": {},
   "outputs": [],
   "source": [
    "def track_robot(instructions):\n",
    "\to=[0,0]\n",
    "\tfor x in instructions:\n",
    "\t\tif x.split()[0]=='up': o[1]+=int(x.split()[1])\n",
    "\t\tif x.split()[0]=='down': o[1]-=int(x.split()[1])\n",
    "\t\tif x.split()[0]=='right': o[0]+=int(x.split()[1])\n",
    "\t\tif x.split()[0]=='left': o[0]-=int(x.split()[1])\n",
    "\treturn o"
   ]
  },
  {
   "cell_type": "code",
   "execution_count": null,
   "metadata": {},
   "outputs": [],
   "source": []
  }
 ],
 "metadata": {
  "language_info": {
   "codemirror_mode": {
    "name": "ipython",
    "version": 3
   },
   "file_extension": ".py",
   "mimetype": "text/x-python",
   "name": "python",
   "nbconvert_exporter": "python",
   "pygments_lexer": "ipython3",
   "version": "3.8.2-final"
  },
  "orig_nbformat": 2,
  "kernelspec": {
   "name": "python38264bit3f4bc9d21b0a470cb598dcfc81df52f4",
   "display_name": "Python 3.8.2 64-bit"
  }
 },
 "nbformat": 4,
 "nbformat_minor": 2
}