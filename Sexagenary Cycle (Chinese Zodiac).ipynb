{
 "cells": [
  {
   "cell_type": "code",
   "execution_count": 33,
   "metadata": {
    "tags": []
   },
   "outputs": [
    {
     "output_type": "stream",
     "name": "stdout",
     "text": "Fire Rat\n"
    }
   ],
   "source": [
    "https://edabit.com/challenge/eSBCbWrG3PY9YYF7c\n",
    "\n",
    "Sexagenary Cycle (Chinese Zodiac)\n",
    "In early recorded Chinese history, time was reckoned using the sexagenary (60-year) cycle, generated from two subcycles:\n",
    "\n",
    "Five heavenly stems (elements) in this order: wood, fire, earth, metal, water. The stems change every two years.\n",
    "Twelve earthly branches (animals) in this order: rat, ox, tiger, rabbit, dragon, snake, horse, sheep, monkey, rooster, dog, pig. The branches change yearly.\n",
    "The combinations between these two sub-cycles result in a 60-year cycle where no two years are the same — for example, the 5 years of the Rat have 5 different elements: 1924 Wood Rat, 1936 Fire Rat, 1948 Earth Rat, 1960 Metal Rat, 1972 Water Rat.\n",
    "\n",
    "The first 14 years of the current cycle are shown in the table below:\n",
    "\n",
    "Gregorian Year\tStem\tBranch\n",
    "1984\tWood\tRat\n",
    "1985\tWood\tOx\n",
    "1986\tFire\tTiger\n",
    "1987\tFire\tRabbit\n",
    "1988\tEarth\tDragon\n",
    "1989\tEarth\tSnake\n",
    "1990\tMetal\tHorse\n",
    "1991\tMetal\tSheep\n",
    "1992\tWater\tMonkey\n",
    "1993\tWater\tRooster\n",
    "1994\tWood\tDog\n",
    "1995\tWood\tPig\n",
    "1996\tFire\tRat\n",
    "1997\tFire\tOx\n",
    "These days, the sexagenary cycle is used mainly for historical celebrations and events, and in Chinese astrology. The Gregorian calendar is now the standard means of reckoning time.\n",
    "\n",
    "Create a function that takes a number representing a year in the Gregorian calendar, and returns a string consisting of the corresponding stem-and-branch combination in the sexagenary cycle.\n",
    "\n",
    "Examples\n",
    "sexagenary(1971) ➞ \"Metal Pig\"\n",
    "\n",
    "sexagenary(1927) ➞ \"Fire Rabbit\"\n",
    "\n",
    "sexagenary(1974) ➞ \"Wood Tiger\"\n",
    "Notes\n",
    "N/A\n"
   ]
  },
  {
   "cell_type": "code",
   "execution_count": null,
   "metadata": {},
   "outputs": [],
   "source": [
    "A={0:'Metal', 1:'Metal', 2:'Water', 3:'Water', 4:'Wood', 5:'Wood', 6:'Fire', 7:'Fire', 8:'Earth', 9:'Earth', }\n",
    "B={0:'Monkey',1:'Rooster', 2:'Dod', 3:'Pig', 4:'Rat', 5:'Ox', 6:'Tiger', 7:'Rabbit', 8:'Dragon',9:'Snake',10:'Horse',11:'Sheep'}\n",
    "year=1996\n",
    "print(A.get(year%10)+' '+B.get(year%12))"
   ]
  },
  {
   "cell_type": "code",
   "execution_count": null,
   "metadata": {},
   "outputs": [],
   "source": [
    "Stem_Dict = {1984: \"Wood\", 1985: \"Wood\", 1986: \"Fire\", 1987: \"Fire\", 1988: \"Earth\", 1989: \" Earth\", 1990: \"Metal\", 1991: \"Metal\", 1992: \"Water\", 1993: \"Water\"}\n",
    "Branch_Dict = {1984: \"Rat\", 1985: \"Ox\", 1986: \"Tiger\", 1987: \"Rabbit\", 1988: \"Dragon\", 1989: \"Snake\", 1990: \"Horse\", 1991: \"Sheep\", 1992: \"Monkey\", 1993: \"Rooster\", 1994: \"Dog\", 1995: \"Pig\"}\n",
    "\n",
    "def sexagenary(year = 1948):\n",
    "\n",
    "    My_Zodiac = \"\"\n",
    "    for key, item in Branch_Dict.items():\n",
    "        for k, i in Stem_Dict.items():\n",
    "            if(key - year) % 12 == 0 and (k - year) % 10 == 0:\n",
    "                My_Zodiac += (i + \" \" + item)\n",
    "\n",
    "    return My_Zodiac"
   ]
  },
  {
   "cell_type": "code",
   "execution_count": null,
   "metadata": {},
   "outputs": [],
   "source": [
    "def sexagenary(yr):\n",
    "    stems = ['Wood','Wood','Fire','Fire','Earth','Earth','Metal','Metal','Water','Water']\n",
    "    branches = ['Rat','Ox','Tiger','Rabbit','Dragon','Snake','Horse','Sheep','Monkey','Rooster','Dog','Pig']\n",
    "    stems += stems*5\n",
    "    branches += branches*4\n",
    "    cycle = [i+' '+j for i,j in zip(stems,branches)]\n",
    "    index = (yr-1984)%60\n",
    "    return cycle[index]"
   ]
  },
  {
   "cell_type": "code",
   "execution_count": null,
   "metadata": {},
   "outputs": [],
   "source": [
    "def sexagenary(year):\n",
    "\tstem = ['Metal','Water','Wood','Fire','Earth']\n",
    "\tbranch = ['Monkey', 'Rooster', 'Dog', 'Pig', 'Rat', 'Ox', 'Tiger', 'Rabbit', 'Dragon', 'Snake', 'Horse', 'Sheep']\n",
    "\treturn stem[(year%10)//2] + ' ' + branch[year%12]"
   ]
  },
  {
   "cell_type": "code",
   "execution_count": null,
   "metadata": {},
   "outputs": [],
   "source": [
    "def sexagenary(year):\n",
    "    stem = {0: \"Wood\", 1: \"Fire\", 2: \"Earth\", 3: \"Metal\", 4: \"Water\"}\n",
    "    branch = {0: \"Rat\", 1: \"Ox\", 2: \"Tiger\", 3: \"Rabbit\", 4: \"Dragon\", 5: \"Snake\", 6: \"Horse\", 7: \"Sheep\", 8: \"Monkey\", 9: \"Rooster\", 10: \"Dog\", 11: \"Pig\"}\n",
    "    return stem[int((year - 1984) // 2) % 5] + \" \" + branch[(year - 1984) % 12]"
   ]
  }
 ],
 "metadata": {
  "language_info": {
   "codemirror_mode": {
    "name": "ipython",
    "version": 3
   },
   "file_extension": ".py",
   "mimetype": "text/x-python",
   "name": "python",
   "nbconvert_exporter": "python",
   "pygments_lexer": "ipython3",
   "version": "3.8.2-final"
  },
  "orig_nbformat": 2,
  "kernelspec": {
   "name": "python38264bit3f4bc9d21b0a470cb598dcfc81df52f4",
   "display_name": "Python 3.8.2 64-bit"
  }
 },
 "nbformat": 4,
 "nbformat_minor": 2
}