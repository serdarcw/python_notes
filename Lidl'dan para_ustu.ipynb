{
 "cells": [
  {
   "cell_type": "code",
   "execution_count": 1,
   "metadata": {},
   "outputs": [
    {
     "ename": "SyntaxError",
     "evalue": "EOL while scanning string literal (<ipython-input-1-7fd42fd5a36c>, line 1)",
     "output_type": "error",
     "traceback": [
      "\u001b[0;36m  File \u001b[0;32m\"<ipython-input-1-7fd42fd5a36c>\"\u001b[0;36m, line \u001b[0;32m1\u001b[0m\n\u001b[0;31m    print('Hello world!'')\u001b[0m\n\u001b[0m                          ^\u001b[0m\n\u001b[0;31mSyntaxError\u001b[0m\u001b[0;31m:\u001b[0m EOL while scanning string literal\n"
     ]
    }
   ],
   "source": [
    "Müşteri Lidl'dan (ya da herhangi bir ekonomik süpermarketten) alışveriş yaptı.\n",
    "Miktar herhangi bir rakam olabilir.. Örnek: 12.34 ya da 56.78 Euro.\n",
    "Ve müşteri kasiyere herhangi bir banknot ya da banknotlar ya da bozukluklar verebilir. Örnek: 20 Euro, 30 Euro, 50 Euro, 65 Euro ya da 100 Euro ya da 200 ya da 500. (500'den çok olmasın, fazla harcamayın..)\n",
    "Şimdi, bizim görevimiz para ustunu kasiyerden alacak bir program yazmak ve, :) ve tabiki bu miktari kasiyerden almak :)..\n",
    "Ve, kasiyer mümkün olan en az adette para kullanarak para üstünü verecek.\n",
    "Yani, para üstü 2 Euro tutuyorsa, 2 tane 1 Euro ya da 4 tane 50 Cent değil, direkt 2 Euro vermeniz gerekiyor. Ama para üstü 1.99 ise, durum biraz farkli..\n",
    "Yuvarlamaları noktadan sonraki 2 haneden sonra yapmanız gerekiyor. Neden? Çünkü, tedavüldeki en küçük para 1 Cent.\n",
    "Tedavüldeki Euro banknotları: 500, 200, 100, 50, 20, 10, 5 Euro.\n",
    "Tedavüldeki Euro bozuklukları: 2, 1, 0.5, 0.2, 0.1, 0.05, 0.02, 0.01 Euro.\n",
    "Evet, minumum kaçar tane banknot ya da bozukluk aldığımızı yazalım.ins. "
   ]
  },
  {
   "cell_type": "code",
   "execution_count": 50,
   "metadata": {},
   "outputs": [
    {
     "name": "stdout",
     "output_type": "stream",
     "text": [
      "Please enter your money : 432.32\n",
      "Please enter your payment : 232.43\n",
      "Your change is 199.89\n",
      "1 adet 100 Euro\n",
      "1 adet 50 Euro\n",
      "2 adet 20 Euro\n",
      "1 adet 5 Euro\n",
      "2 adet 2 Euro\n",
      "1 adet 0.5 Euro\n",
      "1 adet 0.2 Euro\n",
      "1 adet 0.1 Euro\n",
      "1 adet 0.05 Euro\n",
      "1 adet 0.02 Euro\n",
      "1 adet 0.01 Euro\n"
     ]
    }
   ],
   "source": [
    "money = float(input('Please enter your money : '))\n",
    "payment = float(input('Please enter your payment : '))\n",
    "repayment=money-payment\n",
    "print(f'Your change is {repayment}')\n",
    "A=[200, 100,50,20,10,5,2,1,0.5,0.2,0.1,0.05,0.02,0.01]\n",
    "i, B = 0, {}\n",
    "while repayment>0 and i!=len(A):\n",
    "    k=int(repayment//A[i])\n",
    "    repayment= repayment-k*A[i]\n",
    "    if k!=0:\n",
    "        print(f'{k} adet {A[i]} Euro')\n",
    "    i=i+1"
   ]
  },
  {
   "cell_type": "code",
   "execution_count": 2,
   "metadata": {},
   "outputs": [
    {
     "name": "stdout",
     "output_type": "stream",
     "text": [
      "Lutfen alışveriş tutarını girin345\n",
      "Lütfen verilen miktarı girin500\n",
      "100 euro dan  1.0 tane\n",
      "50 euro dan  1.0 tane\n",
      "5 euro dan  1.0 tane\n",
      "Toplam 3.0 tane para ve 155.0 euro vermelisin\n"
     ]
    }
   ],
   "source": [
    "tutar = float(input(\"Lutfen alışveriş tutarını girin\"))\n",
    "verien_para = float(input(\"Lütfen verilen miktarı girin\"))\n",
    "if verien_para < tutar:\n",
    "    print(\"Daha fazla para vermelisin\")\n",
    "para_ustu = verien_para - tutar\n",
    "paralar = [500, 200, 100, 50, 20, 10, 5,2, 1, 0.5, 0.2, 0.1, 0.05, 0.02, 0.01]\n",
    "adet,bol = 0,0\n",
    "for i in paralar:\n",
    "    bol = para_ustu//i\n",
    "    if(bol!=0):\n",
    "        adet +=bol\n",
    "        print(f\"{i} euro dan  {bol} tane\")\n",
    "    para_ustu = round(para_ustu%i,2)\n",
    "    #print(para_ustu)\n",
    "print(f\"Toplam {adet} tane para ve { verien_para - tutar} euro vermelisin\")"
   ]
  },
  {
   "cell_type": "code",
   "execution_count": null,
   "metadata": {},
   "outputs": [],
   "source": []
  }
 ],
 "metadata": {
  "kernelspec": {
   "display_name": "Python 3",
   "language": "python",
   "name": "python3"
  },
  "language_info": {
   "codemirror_mode": {
    "name": "ipython",
    "version": 3
   },
   "file_extension": ".py",
   "mimetype": "text/x-python",
   "name": "python",
   "nbconvert_exporter": "python",
   "pygments_lexer": "ipython3",
   "version": "3.7.6"
  }
 },
 "nbformat": 4,
 "nbformat_minor": 4
}
