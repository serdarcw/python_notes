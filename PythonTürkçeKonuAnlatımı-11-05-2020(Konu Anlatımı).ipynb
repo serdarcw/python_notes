{
 "cells": [
  {
   "cell_type": "markdown",
   "metadata": {},
   "source": [
    "# Python Türkçe Dersi (11 Mayıs 2020)"
   ]
  },
  {
   "cell_type": "code",
   "execution_count": 19,
   "metadata": {},
   "outputs": [],
   "source": [
    "nums1 = [4, 3, 2]\n",
    "nums2 = [3, 7, 5, 4, 5, 6, 4, 5, 5, 6, 4]"
   ]
  },
  {
   "cell_type": "code",
   "execution_count": 20,
   "metadata": {},
   "outputs": [
    {
     "output_type": "execute_result",
     "data": {
      "text/plain": "[4, 3, 2, 3, 7, 5, 4, 5, 6, 4, 5, 5, 6, 4]"
     },
     "metadata": {},
     "execution_count": 20
    }
   ],
   "source": [
    "toplam = nums1 + nums2\n",
    "\n",
    "toplam"
   ]
  },
  {
   "cell_type": "code",
   "execution_count": 18,
   "metadata": {},
   "outputs": [
    {
     "output_type": "execute_result",
     "data": {
      "text/plain": "[2, 3, 3, 3, 4, 4, 4, 4, 5, 5, 5, 5, 6, 6, 7]"
     },
     "metadata": {},
     "execution_count": 18
    }
   ],
   "source": [
    "toplam = sorted(nums1 + nums2)\n",
    "toplam"
   ]
  },
  {
   "cell_type": "code",
   "execution_count": 13,
   "metadata": {},
   "outputs": [
    {
     "output_type": "stream",
     "name": "stdout",
     "text": "4.5\n"
    }
   ],
   "source": [
    "if len(toplam) % 2 != 0:\n",
    "    print(toplam[len(toplam)//2])\n",
    "else:\n",
    "    print((toplam[int(len(toplam)/2)] + toplam[int((len(toplam)/2))-1]) / 2)"
   ]
  },
  {
   "cell_type": "code",
   "execution_count": 11,
   "metadata": {},
   "outputs": [
    {
     "output_type": "execute_result",
     "data": {
      "text/plain": "14"
     },
     "metadata": {},
     "execution_count": 11
    }
   ],
   "source": [
    "len(toplam)"
   ]
  },
  {
   "cell_type": "code",
   "execution_count": 14,
   "metadata": {},
   "outputs": [],
   "source": [
    "import numpy as np"
   ]
  },
  {
   "cell_type": "code",
   "execution_count": 15,
   "metadata": {},
   "outputs": [
    {
     "output_type": "execute_result",
     "data": {
      "text/plain": "4.5"
     },
     "metadata": {},
     "execution_count": 15
    }
   ],
   "source": [
    "np.median(toplam)"
   ]
  },
  {
   "cell_type": "code",
   "execution_count": 27,
   "metadata": {},
   "outputs": [
    {
     "output_type": "stream",
     "name": "stdout",
     "text": "55\n"
    }
   ],
   "source": [
    "my_list = [1, 2, 3, 4, 5]\n",
    "\n",
    "print(sum(x**2 for x in my_list))"
   ]
  },
  {
   "cell_type": "code",
   "execution_count": null,
   "metadata": {},
   "outputs": [],
   "source": [
    "#next()\n",
    "#for loop\n",
    "#built-in functions\n",
    "#def"
   ]
  },
  {
   "cell_type": "code",
   "execution_count": 28,
   "metadata": {},
   "outputs": [
    {
     "output_type": "stream",
     "name": "stdout",
     "text": "25\n"
    }
   ],
   "source": [
    "print(max(x**2 for x in my_list))"
   ]
  },
  {
   "cell_type": "code",
   "execution_count": 23,
   "metadata": {},
   "outputs": [],
   "source": [
    "bos = []\n",
    "for i in my_list:\n",
    "    bos.append(i**2)\n",
    "    "
   ]
  },
  {
   "cell_type": "code",
   "execution_count": 24,
   "metadata": {},
   "outputs": [
    {
     "output_type": "execute_result",
     "data": {
      "text/plain": "[1, 4, 9, 16, 25]"
     },
     "metadata": {},
     "execution_count": 24
    }
   ],
   "source": [
    "bos"
   ]
  },
  {
   "cell_type": "code",
   "execution_count": 29,
   "metadata": {},
   "outputs": [
    {
     "output_type": "stream",
     "name": "stdout",
     "text": "[0, 1, 4, 9, 16]\n"
    }
   ],
   "source": [
    "result = []\n",
    "\n",
    "for i in range(5):\n",
    "    result.append(i**2)\n",
    "    \n",
    "print(result)"
   ]
  },
  {
   "cell_type": "code",
   "execution_count": 30,
   "metadata": {},
   "outputs": [
    {
     "output_type": "execute_result",
     "data": {
      "text/plain": "[0, 1, 4, 9, 16]"
     },
     "metadata": {},
     "execution_count": 30
    }
   ],
   "source": [
    "[i**2 for i in range(5)]"
   ]
  },
  {
   "cell_type": "code",
   "execution_count": 31,
   "metadata": {},
   "outputs": [
    {
     "output_type": "execute_result",
     "data": {
      "text/plain": "[[0], [1], [4], [9], [16]]"
     },
     "metadata": {},
     "execution_count": 31
    }
   ],
   "source": [
    "[[i**2] for i in range(5)]"
   ]
  },
  {
   "cell_type": "code",
   "execution_count": 32,
   "metadata": {},
   "outputs": [
    {
     "output_type": "execute_result",
     "data": {
      "text/plain": "['elma', 'armut', 'muz']"
     },
     "metadata": {},
     "execution_count": 32
    }
   ],
   "source": [
    "xList = \"elma armut muz\".split()\n",
    "xList"
   ]
  },
  {
   "cell_type": "code",
   "execution_count": 35,
   "metadata": {},
   "outputs": [
    {
     "output_type": "execute_result",
     "data": {
      "text/plain": "['selvi', 'vahit', 'ayşe']"
     },
     "metadata": {},
     "execution_count": 35
    }
   ],
   "source": [
    "yList = \"selvi vahit ayşe\".split()\n",
    "yList"
   ]
  },
  {
   "cell_type": "code",
   "execution_count": 36,
   "metadata": {},
   "outputs": [
    {
     "output_type": "execute_result",
     "data": {
      "text/plain": "['elmaselvi',\n 'elmavahit',\n 'elmaayşe',\n 'armutselvi',\n 'armutvahit',\n 'armutayşe',\n 'muzselvi',\n 'muzvahit',\n 'muzayşe']"
     },
     "metadata": {},
     "execution_count": 36
    }
   ],
   "source": [
    "result = []\n",
    "\n",
    "for i in xList:\n",
    "    for j in yList:\n",
    "        result.append(i + j)\n",
    "\n",
    "result"
   ]
  },
  {
   "cell_type": "code",
   "execution_count": 37,
   "metadata": {},
   "outputs": [
    {
     "output_type": "execute_result",
     "data": {
      "text/plain": "['elmaselvi',\n 'elmavahit',\n 'elmaayşe',\n 'armutselvi',\n 'armutvahit',\n 'armutayşe',\n 'muzselvi',\n 'muzvahit',\n 'muzayşe']"
     },
     "metadata": {},
     "execution_count": 37
    }
   ],
   "source": [
    "[i + j for i in xList for j in yList]"
   ]
  },
  {
   "cell_type": "code",
   "execution_count": 40,
   "metadata": {},
   "outputs": [
    {
     "output_type": "execute_result",
     "data": {
      "text/plain": "[['elmaselvi'],\n ['elmavahit'],\n ['elmaayşe'],\n ['armutselvi'],\n ['armutvahit'],\n ['armutayşe'],\n ['muzselvi'],\n ['muzvahit'],\n ['muzayşe']]"
     },
     "metadata": {},
     "execution_count": 40
    }
   ],
   "source": [
    "[[i + j] for i in xList for j in yList]"
   ]
  },
  {
   "cell_type": "code",
   "execution_count": 45,
   "metadata": {},
   "outputs": [
    {
     "output_type": "execute_result",
     "data": {
      "text/plain": "{1, 2, 3}"
     },
     "metadata": {},
     "execution_count": 45
    }
   ],
   "source": [
    "num = [1, 2, 3]\n",
    "nums_set = set(num)\n",
    "nums_set"
   ]
  },
  {
   "cell_type": "code",
   "execution_count": null,
   "metadata": {},
   "outputs": [],
   "source": [
    "# output= [[1, 2, 3], [1, 3, 2], [2, 1, 3], [2, 3, 1], [3, 1, 2], [3, 2, 1]]"
   ]
  },
  {
   "cell_type": "code",
   "execution_count": 41,
   "metadata": {},
   "outputs": [],
   "source": [
    "solution = [[]]"
   ]
  },
  {
   "cell_type": "code",
   "execution_count": 42,
   "metadata": {},
   "outputs": [],
   "source": [
    "# solution_1 = [[1], [2], [3]]\n",
    "# solution_2 = [[1,2], [1,3], [2,1], [2,3], [3,1], [3,2]]\n",
    "# solution_3 = [[1,2,3], [1,3,2], [2,1,3], [2,3,1], [3,1,2], [3,2,1]]"
   ]
  },
  {
   "cell_type": "code",
   "execution_count": 46,
   "metadata": {},
   "outputs": [],
   "source": [
    "#solution = [[1], [2], [3]]\n",
    "# nums_set = {1, 2, 3}\n",
    "for index in range(len(num)):\n",
    "    solution = [i + [j] for i in solution for j in nums_set.difference(set(i))]\n",
    "\n",
    "#set(i) ==> {3}"
   ]
  },
  {
   "cell_type": "code",
   "execution_count": 50,
   "metadata": {},
   "outputs": [
    {
     "output_type": "execute_result",
     "data": {
      "text/plain": "[[1, 2, 3], [1, 3, 2], [2, 1, 3], [2, 3, 1], [3, 1, 2], [3, 2, 1]]"
     },
     "metadata": {},
     "execution_count": 50
    }
   ],
   "source": [
    "num = [1,2,3]\n",
    "solution = [[]]\n",
    "nums_set = set(num)\n",
    "for index in range(len(num)):\n",
    "    solution = [i + [j] for i in solution for j in nums_set.difference(set(i))]\n",
    "solution"
   ]
  },
  {
   "cell_type": "code",
   "execution_count": null,
   "metadata": {},
   "outputs": [],
   "source": []
  }
 ],
 "metadata": {
  "language_info": {
   "codemirror_mode": {
    "name": "ipython",
    "version": 3
   },
   "file_extension": ".py",
   "mimetype": "text/x-python",
   "name": "python",
   "nbconvert_exporter": "python",
   "pygments_lexer": "ipython3",
   "version": "3.8.2-final"
  },
  "orig_nbformat": 2,
  "kernelspec": {
   "name": "python38232bitc3794c6eab23464782525398d97c2f0b",
   "display_name": "Python 3.8.2 32-bit"
  }
 },
 "nbformat": 4,
 "nbformat_minor": 2
}