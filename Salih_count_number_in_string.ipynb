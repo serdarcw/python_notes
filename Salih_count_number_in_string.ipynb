{
 "cells": [
  {
   "cell_type": "code",
   "execution_count": 76,
   "metadata": {},
   "outputs": [
    {
     "name": "stdout",
     "output_type": "stream",
     "text": [
      "12223111\n",
      "(1, 1) (3, 2) (1, 3) (3, 1) "
     ]
    }
   ],
   "source": [
    "Explanation\n",
    "First, the character 1  occurs only once. It is replaced by (1,1). Then the character 2 occurs three times, and it is replaced by (3,2) and so on.\n",
    "Also, note the single space within each compression and between the compressions.\n",
    "\n",
    "Sample Input\n",
    "1222311\n",
    "Sample Output\n",
    "(1, 1) (3, 2) (1, 3) (2, 1)"
   ]
  },
  {
   "cell_type": "code",
   "execution_count": null,
   "metadata": {},
   "outputs": [],
   "source": [
    "t,x= input(),0\n",
    "a=t+str(int(t)%10+1)\n",
    "for i in range(len(a)-1):\n",
    "    x+=1\n",
    "    if a[i]!=a[i+1]:\n",
    "        print((x,int(a[i])),end=' ')\n",
    "        x=0"
   ]
  },
  {
   "cell_type": "code",
   "execution_count": 74,
   "metadata": {},
   "outputs": [
    {
     "name": "stdout",
     "output_type": "stream",
     "text": [
      "(1, 1) (3, 2) (1, 3) (2, 1) "
     ]
    }
   ],
   "source": [
    "T='1222311'\n",
    "A=T+str(int(A)%10+1)\n",
    "C=[]\n",
    "k=0\n",
    "for i in range(len(A)-1):\n",
    "    if A[i]!=A[i+1]:\n",
    "        C.append(A[k:i+1])\n",
    "        k=i+1\n",
    "for i,n in enumerate(C):\n",
    "    print((len(n), int(n[0])), end=' ')"
   ]
  },
  {
   "cell_type": "code",
   "execution_count": null,
   "metadata": {},
   "outputs": [],
   "source": [
    "A=‘1222311’\n",
    "B=[]\n",
    "C=[]\n",
    "for i in range(len(A)-1):\n",
    "    if A[i]!=A[i+1]:\n",
    "        B.append(i+1)\n",
    "        C.append(A[i])\n",
    "B.append(len(A))\n",
    "C.append(A[-1])\n",
    "D=[B[0]]\n",
    "E=[B[i+1]-B[i] for i in range(len(B)-1)]\n",
    "D.extend(E)\n",
    "for i in range(len(D)):\n",
    "    print((D[i],C[i]), end=' ’)"
   ]
  },
  {
   "cell_type": "code",
   "execution_count": null,
   "metadata": {},
   "outputs": [],
   "source": [
    "var = input() #\"1222311\"\n",
    "solution=[]\n",
    "a=1\n",
    "b=var[0]\n",
    "while len(var)>=1:\n",
    "    var=var[1:]\n",
    "    if len(var) == 0:\n",
    "        solution.append((a,int(b)))\n",
    "    elif var[0] == b:\n",
    "        a+=1\n",
    "    else:\n",
    "        solution.append((a,int(b)))\n",
    "        a=1\n",
    "        b=var[0]\n",
    "print(*solution)"
   ]
  }
 ],
 "metadata": {
  "kernelspec": {
   "display_name": "Python 3",
   "language": "python",
   "name": "python3"
  },
  "language_info": {
   "codemirror_mode": {
    "name": "ipython",
    "version": 3
   },
   "file_extension": ".py",
   "mimetype": "text/x-python",
   "name": "python",
   "nbconvert_exporter": "python",
   "pygments_lexer": "ipython3",
   "version": "3.7.6"
  }
 },
 "nbformat": 4,
 "nbformat_minor": 4
}
