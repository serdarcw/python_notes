{
 "cells": [
  {
   "cell_type": "markdown",
   "metadata": {},
   "source": [
    "1) L listesini for kullanarak ekrana yazdır:"
   ]
  },
  {
   "cell_type": "code",
   "execution_count": null,
   "metadata": {},
   "outputs": [],
   "source": [
    "L = [\"elma\", \"armut\", \"karpuz\"]\n",
    "for s in L:\n",
    "    print(s)"
   ]
  },
  {
   "cell_type": "markdown",
   "metadata": {},
   "source": [
    "2) 0 ile 10 arasındaki sayıları ve karelerini for kullanarak ekrana yazdır:"
   ]
  },
  {
   "cell_type": "code",
   "execution_count": null,
   "metadata": {},
   "outputs": [],
   "source": [
    "for x in range(11): \n",
    "    print(x, x**2)"
   ]
  },
  {
   "cell_type": "markdown",
   "metadata": {},
   "source": [
    "3) 1 ile 10 arasında sayıları yazdır 5 i görünce döngüden çık.(NOT:printi geri çek bak.)"
   ]
  },
  {
   "cell_type": "code",
   "execution_count": null,
   "metadata": {},
   "outputs": [],
   "source": [
    "for i in range(1, 10):\n",
    "    if(i%5==0):\n",
    "        break\n",
    "print(i)"
   ]
  },
  {
   "cell_type": "markdown",
   "metadata": {},
   "source": [
    "4) 0 dan 10 a kadar olan tek sayıları yazdır.(NOT: Print i geri çek)"
   ]
  },
  {
   "cell_type": "code",
   "execution_count": null,
   "metadata": {},
   "outputs": [],
   "source": [
    "for x in range(10):\n",
    "    if x % 2 == 0:\n",
    "        continue\n",
    "    print(x)"
   ]
  },
  {
   "cell_type": "code",
   "execution_count": null,
   "metadata": {},
   "outputs": [],
   "source": [
    "5)sonsuz döngü örneği:"
   ]
  },
  {
   "cell_type": "code",
   "execution_count": null,
   "metadata": {
    "tags": [
     "outputPrepend",
     "outputPrepend",
     "outputPrepend",
     "outputPrepend",
     "outputPrepend",
     "outputPrepend",
     "outputPrepend",
     "outputPrepend",
     "outputPrepend",
     "outputPrepend",
     "outputPrepend",
     "outputPrepend",
     "outputPrepend",
     "outputPrepend",
     "outputPrepend",
     "outputPrepend",
     "outputPrepend",
     "outputPrepend",
     "outputPrepend",
     "outputPrepend",
     "outputPrepend",
     "outputPrepend",
     "outputPrepend",
     "outputPrepend",
     "outputPrepend",
     "outputPrepend",
     "outputPrepend",
     "outputPrepend",
     "outputPrepend",
     "outputPrepend",
     "outputPrepend",
     "outputPrepend",
     "outputPrepend",
     "outputPrepend",
     "outputPrepend",
     "outputPrepend",
     "outputPrepend",
     "outputPrepend",
     "outputPrepend",
     "outputPrepend",
     "outputPrepend",
     "outputPrepend",
     "outputPrepend",
     "outputPrepend",
     "outputPrepend",
     "outputPrepend",
     "outputPrepend",
     "outputPrepend",
     "outputPrepend",
     "outputPrepend",
     "outputPrepend",
     "outputPrepend",
     "outputPrepend",
     "outputPrepend",
     "outputPrepend",
     "outputPrepend",
     "outputPrepend",
     "outputPrepend",
     "outputPrepend",
     "outputPrepend",
     "outputPrepend",
     "outputPrepend",
     "outputPrepend",
     "outputPrepend",
     "outputPrepend",
     "outputPrepend",
     "outputPrepend",
     "outputPrepend",
     "outputPrepend",
     "outputPrepend",
     "outputPrepend",
     "outputPrepend",
     "outputPrepend",
     "outputPrepend",
     "outputPrepend",
     "outputPrepend",
     "outputPrepend",
     "outputPrepend",
     "outputPrepend",
     "outputPrepend",
     "outputPrepend",
     "outputPrepend",
     "outputPrepend",
     "outputPrepend",
     "outputPrepend",
     "outputPrepend",
     "outputPrepend",
     "outputPrepend",
     "outputPrepend",
     "outputPrepend",
     "outputPrepend",
     "outputPrepend",
     "outputPrepend",
     "outputPrepend",
     "outputPrepend",
     "outputPrepend",
     "outputPrepend",
     "outputPrepend",
     "outputPrepend",
     "outputPrepend",
     "outputPrepend",
     "outputPrepend",
     "outputPrepend",
     "outputPrepend",
     "outputPrepend",
     "outputPrepend",
     "outputPrepend",
     "outputPrepend",
     "outputPrepend",
     "outputPrepend",
     "outputPrepend",
     "outputPrepend",
     "outputPrepend",
     "outputPrepend",
     "outputPrepend",
     "outputPrepend",
     "outputPrepend",
     "outputPrepend",
     "outputPrepend",
     "outputPrepend",
     "outputPrepend",
     "outputPrepend",
     "outputPrepend",
     "outputPrepend",
     "outputPrepend",
     "outputPrepend",
     "outputPrepend",
     "outputPrepend",
     "outputPrepend",
     "outputPrepend",
     "outputPrepend",
     "outputPrepend",
     "outputPrepend",
     "outputPrepend",
     "outputPrepend",
     "outputPrepend",
     "outputPrepend",
     "outputPrepend",
     "outputPrepend",
     "outputPrepend",
     "outputPrepend",
     "outputPrepend",
     "outputPrepend",
     "outputPrepend",
     "outputPrepend",
     "outputPrepend",
     "outputPrepend",
     "outputPrepend",
     "outputPrepend",
     "outputPrepend",
     "outputPrepend",
     "outputPrepend",
     "outputPrepend",
     "outputPrepend",
     "outputPrepend",
     "outputPrepend",
     "outputPrepend",
     "outputPrepend",
     "outputPrepend",
     "outputPrepend",
     "outputPrepend",
     "outputPrepend",
     "outputPrepend",
     "outputPrepend",
     "outputPrepend",
     "outputPrepend",
     "outputPrepend",
     "outputPrepend",
     "outputPrepend",
     "outputPrepend",
     "outputPrepend",
     "outputPrepend",
     "outputPrepend",
     "outputPrepend",
     "outputPrepend",
     "outputPrepend",
     "outputPrepend",
     "outputPrepend",
     "outputPrepend",
     "outputPrepend",
     "outputPrepend",
     "outputPrepend",
     "outputPrepend",
     "outputPrepend",
     "outputPrepend",
     "outputPrepend",
     "outputPrepend",
     "outputPrepend",
     "outputPrepend",
     "outputPrepend",
     "outputPrepend",
     "outputPrepend",
     "outputPrepend",
     "outputPrepend",
     "outputPrepend",
     "outputPrepend",
     "outputPrepend",
     "outputPrepend",
     "outputPrepend",
     "outputPrepend",
     "outputPrepend",
     "outputPrepend"
    ]
   },
   "outputs": [],
   "source": [
    "flag = 1 \n",
    "\n",
    "while (flag): \n",
    "    print (\"Flag degisken True degere sahiptir\")\n"
   ]
  },
  {
   "cell_type": "code",
   "execution_count": null,
   "metadata": {},
   "outputs": [],
   "source": [
    "6)Girilen sayının faktoriyelini alma:"
   ]
  },
  {
   "cell_type": "code",
   "execution_count": null,
   "metadata": {},
   "outputs": [],
   "source": [
    "sonuc=1;\n",
    "sayi=input('1. Sayı: ')\n",
    "for i in range(1,int(sayi)+1):\n",
    "      sonuc*=i\n",
    "print(\"{0} sayısının faktoriyeli : {1}\".format(sayi,sonuc))"
   ]
  },
  {
   "cell_type": "code",
   "execution_count": null,
   "metadata": {},
   "outputs": [],
   "source": [
    "7)1 den 10 a kadar çarpım tablosu yapımı:"
   ]
  },
  {
   "cell_type": "code",
   "execution_count": null,
   "metadata": {},
   "outputs": [],
   "source": [
    "for x in range(1,11):\n",
    "  for y in range(1,11):\n",
    "    print(x,\"x\", y,\"=\",x*y)"
   ]
  },
  {
   "cell_type": "code",
   "execution_count": null,
   "metadata": {},
   "outputs": [],
   "source": [
    "8) for döngüsü ile verilen satır sayısı kadar piramit yapımı."
   ]
  },
  {
   "cell_type": "code",
   "execution_count": 3,
   "metadata": {},
   "outputs": [
    {
     "output_type": "stream",
     "name": "stdout",
     "text": "....workshop is very funny...\n         *\n        ***\n       *****\n      *******\n     *********\n    ***********\n   *************\n  ***************\n *****************\n*******************\n"
    }
   ],
   "source": [
    "satir=10\n",
    "print('....workshop is very funny...')\n",
    "for i in range(satir):\n",
    "    print(' '*(satir-i-1) + '*'*(2*i+1))"
   ]
  },
  {
   "cell_type": "code",
   "execution_count": null,
   "metadata": {},
   "outputs": [],
   "source": [
    "\n",
    "9) Sözlük döngü örnekleri"
   ]
  },
  {
   "cell_type": "code",
   "execution_count": 4,
   "metadata": {},
   "outputs": [
    {
     "output_type": "stream",
     "name": "stdout",
     "text": "bir\niki\nüç\ndört\n"
    }
   ],
   "source": [
    "sözlük = {\"bir\":1,\"iki\":2,\"üç\":3,\"dört\":4}\n",
    "for eleman in sözlük:\n",
    "    print(eleman)"
   ]
  },
  {
   "cell_type": "code",
   "execution_count": 5,
   "metadata": {},
   "outputs": [
    {
     "output_type": "stream",
     "name": "stdout",
     "text": "bir\niki\nüç\ndört\n"
    }
   ],
   "source": [
    "sözlük = {\"bir\":1,\"iki\":2,\"üç\":3,\"dört\":4}\n",
    "for eleman in sözlük.keys():\n",
    "    print(eleman)"
   ]
  },
  {
   "cell_type": "markdown",
   "metadata": {},
   "source": [
    "10) Koşullu ifadenin içinde for döngüsü:"
   ]
  },
  {
   "cell_type": "code",
   "execution_count": 6,
   "metadata": {},
   "outputs": [
    {
     "output_type": "stream",
     "name": "stdout",
     "text": "1\n3\n5\n"
    }
   ],
   "source": [
    "numara=int(input(\"Bir sayı giriniz.\"))\n",
    "if numara > 100:\n",
    "  print(\"100'den fazla dönemem\")\n",
    "elif numara < 100:\n",
    "  for sayi in range(1, numara, 2):\n",
    "    print(sayi)\n",
    "else:\n",
    "  print(\"Hatalı işlem\")"
   ]
  },
  {
   "cell_type": "markdown",
   "metadata": {},
   "source": [
    "11) Listeleri while ile yazdırma:"
   ]
  },
  {
   "cell_type": "code",
   "execution_count": 7,
   "metadata": {},
   "outputs": [
    {
     "output_type": "stream",
     "name": "stdout",
     "text": "elma\narmut\nkarpuz\n"
    }
   ],
   "source": [
    "L = [\"elma\",\"armut\",\"karpuz\"]\n",
    "i=0\n",
    "while i < len(L):\n",
    "    print(L[i])\n",
    "    i += 1"
   ]
  },
  {
   "cell_type": "markdown",
   "metadata": {},
   "source": [
    "12) 1'den 10' a kadar while ile yazdırma.(YANSI-1)\n"
   ]
  },
  {
   "cell_type": "code",
   "execution_count": null,
   "metadata": {},
   "outputs": [],
   "source": [
    "a=1\n",
    "b=10\n",
    "while a<b:\n",
    "    print(a, end=\" \")\n",
    "    a += 1  "
   ]
  },
  {
   "cell_type": "markdown",
   "metadata": {},
   "source": [
    "13) 1' den 10 a kadar sayıların toplamını yazdırma:(YANSI-2)"
   ]
  },
  {
   "cell_type": "code",
   "execution_count": null,
   "metadata": {},
   "outputs": [],
   "source": [
    "a=1\n",
    "b=10\n",
    "toplam=0\n",
    "while a < b:\n",
    "    toplam += a\n",
    "    a += 1\n",
    "print(toplam)"
   ]
  },
  {
   "cell_type": "markdown",
   "metadata": {},
   "source": [
    "14) 1**p + 2**p..........10**p   ve toplamını ekrana yazdırma:(YANSI-3)"
   ]
  },
  {
   "cell_type": "code",
   "execution_count": 8,
   "metadata": {},
   "outputs": [
    {
     "output_type": "stream",
     "name": "stdout",
     "text": "p = 1 , 1^p + ... + 10^p = 55\n"
    }
   ],
   "source": [
    "p=1\n",
    "a=1\n",
    "b=10\n",
    "toplam=0\n",
    "while a<=b:\n",
    "    toplam += a**p\n",
    "    a += 1\n",
    "print(\"p =\",p,\", 1^p + ... + 10^p =\", toplam)"
   ]
  },
  {
   "cell_type": "code",
   "execution_count": null,
   "metadata": {},
   "outputs": [],
   "source": [
    "15) İç içe döngüler kullanmadan uzun yolla yapmak."
   ]
  },
  {
   "cell_type": "code",
   "execution_count": 9,
   "metadata": {},
   "outputs": [
    {
     "output_type": "stream",
     "name": "stdout",
     "text": "p = 1 , 1^p + ... + 10^p = 55\np = 2 , 1^p + ... + 10^p = 385\np = 3 , 1^p + ... + 10^p = 3025\np = 4 , 1^p + ... + 10^p = 25333\np = 5 , 1^p + ... + 10^p = 220825\np = 6 , 1^p + ... + 10^p = 1978405\n"
    }
   ],
   "source": [
    "p=1\n",
    "a=1\n",
    "b=10\n",
    "toplam=0\n",
    "while a<=b:\n",
    "    toplam += a**p\n",
    "    a += 1\n",
    "print(\"p =\",p,\", 1^p + ... + 10^p =\", toplam)\n",
    "\n",
    "p=2\n",
    "a=1\n",
    "b=10\n",
    "toplam=0\n",
    "while a<=b:\n",
    "    toplam += a**p\n",
    "    a += 1\n",
    "print(\"p =\",p,\", 1^p + ... + 10^p =\", toplam)\n",
    "\n",
    "p=3\n",
    "a=1\n",
    "b=10\n",
    "toplam=0\n",
    "while a<=b:\n",
    "    toplam += a**p\n",
    "    a += 1\n",
    "print(\"p =\",p,\", 1^p + ... + 10^p =\", toplam)\n",
    "\n",
    "p=4\n",
    "a=1\n",
    "b=10\n",
    "toplam=0\n",
    "while a<=b:\n",
    "    toplam += a**p\n",
    "    a += 1\n",
    "print(\"p =\",p,\", 1^p + ... + 10^p =\", toplam)\n",
    "\n",
    "p=5\n",
    "a=1\n",
    "b=10\n",
    "toplam=0\n",
    "while a<=b:\n",
    "    toplam += a**p\n",
    "    a += 1\n",
    "print(\"p =\",p,\", 1^p + ... + 10^p =\", toplam)\n",
    "\n",
    "p=6\n",
    "a=1\n",
    "b=10\n",
    "toplam=0\n",
    "while a<=b:\n",
    "    toplam += a**p\n",
    "    a += 1\n",
    "print(\"p =\",p,\", 1^p + ... + 10^p =\", toplam)"
   ]
  },
  {
   "cell_type": "code",
   "execution_count": null,
   "metadata": {},
   "outputs": [],
   "source": [
    "16) Aynı soruyu iç içe döngü kullanarak basit yolla yapmak.(YANSI-4)"
   ]
  },
  {
   "cell_type": "code",
   "execution_count": null,
   "metadata": {},
   "outputs": [],
   "source": [
    "p=1\n",
    "while p<=6:\n",
    "    a=1\n",
    "    b=10\n",
    "    toplam=0\n",
    "    while a<=b:\n",
    "        toplam += a**p\n",
    "        a += 1\n",
    "    print(\"p =\",p,\", 1^p + ... + 10^p =\", toplam)\n",
    "    p += 1"
   ]
  },
  {
   "cell_type": "markdown",
   "metadata": {},
   "source": [
    "17) break: Döngüyü bitirmek"
   ]
  },
  {
   "cell_type": "markdown",
   "metadata": {},
   "source": [
    "Örnek olarak, kullanıcının verdiği sayıları toplayan bir program yazalım. Kullanıcı -99 girene kadar sayıları toplama eklemeye devam etsin."
   ]
  },
  {
   "cell_type": "code",
   "execution_count": null,
   "metadata": {},
   "outputs": [],
   "source": [
    "toplam = 0\n",
    "while True:   # Şart hep doğru - sonsuz döngü\n",
    "    x = int(input(\"Bir sayı girin (bitirmek için -99): \"))\n",
    "    if x == -99:\n",
    "        break\n",
    "    toplam += x\n",
    "print(\"Toplam:\", toplam)"
   ]
  },
  {
   "cell_type": "markdown",
   "metadata": {},
   "source": [
    "18) continue: döngüyü bitirmeden belli koşulları atlayarak döngüye geri dönmek."
   ]
  },
  {
   "cell_type": "code",
   "execution_count": null,
   "metadata": {},
   "outputs": [],
   "source": [
    "toplam = 0\n",
    "while True:\n",
    "    x = int(input(\"Bir sayı girin (bitirmek için -99): \"))\n",
    "    if x == -99:\n",
    "        break\n",
    "    if x < 0 or x > 100:\n",
    "        print(\"0-100 arası olmalı.\")\n",
    "        continue\n",
    "    toplam += x\n",
    "print(\"Toplam:\", toplam)"
   ]
  },
  {
   "cell_type": "markdown",
   "metadata": {},
   "source": [
    "19) Somut bir örnek olarak, bir sıralı veri yapısı içinde bir arama yaptığımızı düşünelim. Veride belli bir değere sahip bir eleman olup olmadığını bulmaya çalışıyoruz. Bunun klasik yolu “bayrak” (flag) adı verilen Boolean (doğru/yanlış) değişkenler kullanmaktır. Başlangıçta bayrak değeri “yanlış”tır. Veriyi eleman eleman tarar, aradığımız değeri bulursak bayrağı “doğru” değere getirir ve döngüden çıkarız. Döngü bittiğinde bayrağın durumu bize sonucu verir."
   ]
  },
  {
   "cell_type": "code",
   "execution_count": null,
   "metadata": {},
   "outputs": [],
   "source": [
    "data = [1,2,4,-1,3,4,-5,1]\n",
    "i = 0\n",
    "aranan = 3\n",
    "\n",
    "bulduk = False\n",
    "while i<len(data) and not bulduk:\n",
    "    if data[i] == aranan:\n",
    "        bulduk = True\n",
    "    else:\n",
    "        i += 1\n",
    "\n",
    "if bulduk:\n",
    "    print(\"Aranan\", aranan, \"değeri\", i, \"pozisyonunda.\")\n",
    "else:\n",
    "    print(\"Bulamadık\")"
   ]
  },
  {
   "cell_type": "code",
   "execution_count": null,
   "metadata": {},
   "outputs": [],
   "source": [
    "20)Sayı tahmin oyunu:"
   ]
  },
  {
   "cell_type": "code",
   "execution_count": null,
   "metadata": {},
   "outputs": [],
   "source": [
    "from random import randint\n",
    " \n",
    "rand=randint(1, 100)\n",
    "sayac=0\n",
    " \n",
    "while True:\n",
    "    sayac+=1\n",
    "    sayi=int(input(\"1 ile 100 arasında değer girin (0 Çıkış):\"))\n",
    "    if(sayi==0):\n",
    "        print(\"Oyunu İptal Ettiniz\")\n",
    "        break\n",
    "    elif sayi < rand:\n",
    "        print(\"Daha Yüksek Bir Sayı Girin.\")\n",
    "        continue\n",
    "    elif sayi > rand:\n",
    "        print(\"Daha Düşük Bir Sayı Girin.\")\n",
    "        continue\n",
    "    else:\n",
    "        print(\"Rastele seçilen sayı {0}!\".format(rand))\n",
    "        print(\"Tahmin sayınız {0}\".format(sayac))"
   ]
  },
  {
   "cell_type": "code",
   "execution_count": null,
   "metadata": {},
   "outputs": [],
   "source": []
  }
 ],
 "metadata": {
  "kernelspec": {
   "display_name": "Python 3",
   "language": "python",
   "name": "python3"
  },
  "language_info": {
   "codemirror_mode": {
    "name": "ipython",
    "version": 3
   },
   "file_extension": ".py",
   "mimetype": "text/x-python",
   "name": "python",
   "nbconvert_exporter": "python",
   "pygments_lexer": "ipython3",
   "version": "3.7.6-final"
  }
 },
 "nbformat": 4,
 "nbformat_minor": 4
}