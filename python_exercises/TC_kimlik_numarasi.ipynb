{
 "cells": [
  {
   "cell_type": "code",
   "execution_count": 1,
   "metadata": {
    "tags": []
   },
   "outputs": [
    {
     "output_type": "stream",
     "name": "stdout",
     "text": "[1, 1, 1, 1, 1, 1, 1, 1, 1, 1, 0]\n31\nTC kimlik numarası geçerlidir\n"
    }
   ],
   "source": [
    "#TCkimlik=11111111110\n",
    "#mylist=[int(i) for i in str(TCkimlik)]\n",
    "#print(mylist)\n",
    "#Python derleri 2 de buna benzer bir soru çözümü var\n",
    "#def tckimlik(n):\n",
    "#    sum1=(mylist[0]+mylist[2]+mylist[4]+mylist[6]+mylist[8])*7\n",
    "#    mult=mylist[1]+mylist[3]+mylist[5]+mylist[7]\n",
    "#    result1=sum1-mult\n",
    "#    print(result1)\n",
    "#    if result1%10!=mylist[9] and sum(mylist[:10])%10!=mylist[10]:\n",
    "#        print('TC kimlik numarası geçersizdir')\n",
    "#    else:\n",
    "#        print('TC kimlik numarası geçerlidir')\n",
    "#tckimlik(TCkimlik)"
   ]
  },
  {
   "cell_type": "code",
   "execution_count": 53,
   "metadata": {
    "tags": []
   },
   "outputs": [
    {
     "output_type": "stream",
     "name": "stdout",
     "text": "-38\n"
    }
   ],
   "source": [
    "#def solve(arr):\n",
    "#    for i in arr:\n",
    "#        if arr.count(i)+arr.count((-1)*i)!=2:\n",
    "#            print(i)\n",
    "#            break\n",
    "#        elif arr.count(i)>1:\n",
    "#            print(i)\n",
    "#            break\n",
    "#arr=[-110,110,-38,-38,-62,62,-38,-38,-38]\n",
    "#solve(arr)"
   ]
  },
  {
   "cell_type": "code",
   "execution_count": 69,
   "metadata": {
    "tags": []
   },
   "outputs": [
    {
     "output_type": "stream",
     "name": "stdout",
     "text": "Lüften geçerli bir Tckimlik numarası harf kontrol giriniz \n"
    }
   ],
   "source": [
    "Tckimlik=input('Lutfen TC kimlik numaranızı giriniz')\n",
    "\n",
    "if len(Tckimlik)!=11:\n",
    "    print('Lüften geçerli bir Tckimlik numarası giriniz')\n",
    "elif not Tckimlik.isdigit():\n",
    "    print('Lüften geçerli bir Tckimlik numarası giriniz ')\n",
    "else:\n",
    "    summ1 = (int(A[0])+int(A[2])+int(A[4])+int(A[6])+int(A[8]))*7\n",
    "    summ2=int(A[1])+int(A[3])+int(A[5])+int(A[7])\n",
    "    result=summ1-summ2\n",
    "\n",
    "    toplam_1_10=int(A[0])+int(A[1])+int(A[2])+int(A[3])+int(A[4])+int(A[5])+int(A[6])+int(A[7])+int(A[8])+int(A[9])\n",
    "\n",
    "    if result % 10 != int(A[9]) or toplam_1_10 % 10 != int(A[10]):\n",
    "        print('Bu bir TC kimlik numarası değildir')\n",
    "    else:\n",
    "        print('Bu bir TC kimlik numarasıdır')"
   ]
  },
  {
   "cell_type": "code",
   "execution_count": null,
   "metadata": {},
   "outputs": [],
   "source": []
  }
 ],
 "metadata": {
  "language_info": {
   "codemirror_mode": {
    "name": "ipython",
    "version": 3
   },
   "file_extension": ".py",
   "mimetype": "text/x-python",
   "name": "python",
   "nbconvert_exporter": "python",
   "pygments_lexer": "ipython3",
   "version": "3.8.2-final"
  },
  "orig_nbformat": 2,
  "kernelspec": {
   "name": "python38264bit3f4bc9d21b0a470cb598dcfc81df52f4",
   "display_name": "Python 3.8.2 64-bit"
  }
 },
 "nbformat": 4,
 "nbformat_minor": 2
}