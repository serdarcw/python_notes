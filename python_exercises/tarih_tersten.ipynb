{
 "nbformat": 4,
 "nbformat_minor": 2,
 "metadata": {
  "language_info": {
   "name": "python",
   "codemirror_mode": {
    "name": "ipython",
    "version": 3
   },
   "version": "3.8.2-final"
  },
  "orig_nbformat": 2,
  "file_extension": ".py",
  "mimetype": "text/x-python",
  "name": "python",
  "npconvert_exporter": "python",
  "pygments_lexer": "ipython3",
  "version": 3,
  "kernelspec": {
   "name": "python38264bit3f4bc9d21b0a470cb598dcfc81df52f4",
   "display_name": "Python 3.8.2 64-bit"
  }
 },
 "cells": [
  {
   "cell_type": "code",
   "execution_count": 12,
   "metadata": {},
   "outputs": [],
   "source": [
    "def format_date(date):\n",
    "    y = list(x)\n",
    "    y.remove('/')\n",
    "    y.remove('/')\n",
    "    return (\"\".join(y[4:]+y[2:4]+y[:2]))"
   ]
  },
  {
   "cell_type": "code",
   "execution_count": 13,
   "metadata": {},
   "outputs": [
    {
     "output_type": "execute_result",
     "data": {
      "text/plain": "'20191211'"
     },
     "metadata": {},
     "execution_count": 13
    }
   ],
   "source": [
    "def format_date(date):\n",
    "\tm, d, y = date.split('/')\n",
    "\treturn ''.join((y, d, m))"
   ]
  },
  {
   "cell_type": "code",
   "execution_count": null,
   "metadata": {},
   "outputs": [],
   "source": [
    "def format_date(date):\n",
    "\treturn ''.join(date.split('/')[::-1])"
   ]
  },
  {
   "cell_type": "code",
   "execution_count": null,
   "metadata": {},
   "outputs": [],
   "source": [
    "def format_date(date):\n",
    "\treturn ''.join(reversed(date.split('/')))"
   ]
  },
  {
   "cell_type": "code",
   "execution_count": null,
   "metadata": {},
   "outputs": [],
   "source": [
    "def format_date(date):\n",
    "\ta,b,c = date.split('/')\n",
    "\treturn c + b + a"
   ]
  },
  {
   "cell_type": "code",
   "execution_count": null,
   "metadata": {},
   "outputs": [],
   "source": [
    "def format_date(d):\n",
    "\treturn d[6:10] + d[3:5] + d[0:2]"
   ]
  },
  {
   "cell_type": "code",
   "execution_count": null,
   "metadata": {},
   "outputs": [],
   "source": [
    "def format_date(date):\n",
    "\td = date.split(\"/\")\n",
    "\treturn \"{}{}{}\".format(d[2],d[1],d[0])"
   ]
  },
  {
   "cell_type": "code",
   "execution_count": null,
   "metadata": {},
   "outputs": [],
   "source": [
    "def format_date(date):\n",
    "    date =  date.split('/')\n",
    "    return ''+date[-1]+date[-2]+date[-3]"
   ]
  }
 ]
}