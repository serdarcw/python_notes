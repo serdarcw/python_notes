{
 "cells": [
  {
   "cell_type": "code",
   "execution_count": 26,
   "metadata": {},
   "outputs": [
    {
     "name": "stdout",
     "output_type": "stream",
     "text": [
      "{'Rock': 'Scissor', 'Scissor': 'Paper', 'Paper': 'Rock'}\n",
      "The winner is Paper\n"
     ]
    }
   ],
   "source": [
    "Rock, Paper, Scissors\n",
    "Create a function which takes two strings - p1 and p2 - as arguments and returns a string stating the winner in a game of 'Rock, Paper, Scissors'.\n",
    "\n",
    "Each argument will contain a single string: 'Rock', 'Paper', or 'Scissors'. Return the winner according the following rules:\n",
    "\n",
    "Rock beats Scissors\n",
    "Scissors beats Paper\n",
    "Paper beats Rock\n",
    "You should return the string \"The winner is {winner} \".\n",
    "\n",
    "If p1 and p2 are the same, return \"It's a draw\".\n",
    "\n",
    "Examples\n",
    "rps(\"Rock\", \"Paper\") ➞ \"The winner is p2\"\n",
    "\n",
    "rps(\"Scissors\", \"Paper\") ➞ \"The winner is p1\"\n",
    "\n",
    "rps(\"Paper\", \"Paper\") ➞ \"It's a draw\""
   ]
  },
  {
   "cell_type": "code",
   "execution_count": null,
   "metadata": {},
   "outputs": [],
   "source": [
    "def rps(p1,p2):\n",
    "\tA = dict(Rock='Scissors',Scissors='Paper',Paper='Rock')\n",
    "\t\n",
    "\tif p1 == p2:\n",
    "\t\treturn \"It's a draw\"\n",
    "\tif A[p1]==p2:\n",
    "\t\treturn \"The winner is p1\"\n",
    "\telse:\n",
    "\t\treturn \"The winner is p2\"\n",
    "\t"
   ]
  },
  {
   "cell_type": "code",
   "execution_count": null,
   "metadata": {},
   "outputs": [],
   "source": [
    "def rps(p1,p2):\n",
    "\tv = {'Rock':1, 'Paper':2, 'Scissors':3}\n",
    "\treturn [\"It's a draw\", 'The winner is p1', 'The winner is p2'][v[p1]-v[p2]]"
   ]
  },
  {
   "cell_type": "code",
   "execution_count": null,
   "metadata": {},
   "outputs": [],
   "source": [
    "def rps(p1, p2):\n",
    "    wins = {('Rock', 'Scissors'), ('Paper', 'Rock'), ('Scissors', 'Paper')}\n",
    "    if p1 == p2:\n",
    "        return \"It's a draw\"\n",
    "    return 'The winner is {}'.format('p1' if (p1, p2) in wins else 'p2')"
   ]
  },
  {
   "cell_type": "code",
   "execution_count": null,
   "metadata": {},
   "outputs": [],
   "source": [
    "def rps(p1,p2):\n",
    "\tv = {'Rock':1, 'Paper':2, 'Scissors':3}\n",
    "\treturn [\"It's a draw\", 'The winner is p1', 'The winner is p2'][v[p1]-v[p2]]"
   ]
  },
  {
   "cell_type": "code",
   "execution_count": null,
   "metadata": {},
   "outputs": [],
   "source": [
    "def rps(p1,p2):\n",
    "\tif p1 == 'Rock' and p2 == 'Paper':\n",
    "\t\treturn \"The winner is p2\"\n",
    "\telif p2 == 'Rock' and p1 == 'Paper':\n",
    "\t\treturn \"The winner is p1\"\n",
    "\telif p1 == 'Rock' and p2 == 'Scissors':\n",
    "\t\treturn \"The winner is p1\"\n",
    "\telif p2 == 'Rock' and p1 == 'Scissors':\n",
    "\t\treturn \"The winner is p2\"\n",
    "\telif p1 == 'Paper' and p2 == 'Scissors':\n",
    "\t\treturn \"The winner is p2\"\n",
    "\telif p2 == 'Paper' and p1 == 'Scissors':\n",
    "\t\treturn \"The winner is p1\"\n",
    "\telif p1 == p2:\n",
    "\t\treturn \"It's a draw\""
   ]
  },
  {
   "cell_type": "code",
   "execution_count": null,
   "metadata": {},
   "outputs": [],
   "source": [
    "def rps(p1,p2):\n",
    "\tif p1 ==p2:\n",
    "\t\treturn \"It's a draw\"\n",
    "\tgame_dict = {\"Rock\":\"Scissors\", \"Scissors\":\"Paper\", \"Paper\":\"Rock\"}\n",
    "\tif game_dict[p1] == p2:\n",
    "\t\treturn \"The winner is p1\"\n",
    "\treturn \"The winner is p2\""
   ]
  },
  {
   "cell_type": "code",
   "execution_count": null,
   "metadata": {},
   "outputs": [],
   "source": [
    "def rps(p1, p2):\n",
    "    if p1 == \"Rock\":\n",
    "        if p2 == \"Rock\":\n",
    "            return \"It's a draw\"\n",
    "        elif p2 == \"Scissors\":\n",
    "            return \"The winner is p1\"\n",
    "        elif p2 == \"Paper\":\n",
    "            return \"The winner is p2\"\n",
    "    if p1 == \"Scissors\":\n",
    "        if p2 == \"Rock\":\n",
    "            return \"The winner is p2\"\n",
    "        elif p2 == \"Scissors\":\n",
    "            return \"It's a draw\"\n",
    "        elif p2 == \"Paper\":\n",
    "            return \"The winner is p1\"\n",
    "    if p1 == \"Paper\":\n",
    "        if p2 == \"Paper\":\n",
    "            return \"It's a draw\"\n",
    "        elif p2 == \"Rock\":\n",
    "            return \"The winner is p1\"\n",
    "        elif p2 == \"Scissors\":\n",
    "            return \"The winner is p2\""
   ]
  }
 ],
 "metadata": {
  "kernelspec": {
   "display_name": "Python 3",
   "language": "python",
   "name": "python3"
  },
  "language_info": {
   "codemirror_mode": {
    "name": "ipython",
    "version": 3
   },
   "file_extension": ".py",
   "mimetype": "text/x-python",
   "name": "python",
   "nbconvert_exporter": "python",
   "pygments_lexer": "ipython3",
   "version": "3.7.6"
  }
 },
 "nbformat": 4,
 "nbformat_minor": 4
}
