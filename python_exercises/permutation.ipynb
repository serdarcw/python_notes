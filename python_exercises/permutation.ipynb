{
 "cells": [
  {
   "cell_type": "markdown",
   "metadata": {},
   "source": [
    "Given n pairs of parentheses, write a function to generate all combinations of well-formed parentheses.\n",
    "For example, given n = 3, a solution set is:\n",
    "[\n",
    "  \"((()))\",\n",
    "  \"(()())\",\n",
    "  \"(())()\",\n",
    "  \"()(())\",\n",
    "  \"()()()\"\n",
    "]"
   ]
  },
  {
   "cell_type": "code",
   "execution_count": null,
   "metadata": {},
   "outputs": [],
   "source": [
    "n = int(input('Please enter your number : '))\n",
    "def permutation(lst):\n",
    "    if len(lst) == 0:\n",
    "        return []\n",
    "    if len(lst) == 1:\n",
    "        return [lst]\n",
    "    l = [] \n",
    "    for i in range(len(lst)):\n",
    "       m = lst[i]\n",
    "       remLst = lst[:i] + lst[i+1:]\n",
    "       for p in permutation(remLst):\n",
    "           l.append([m] + p)\n",
    "    return l\n",
    "\n",
    "data = list(n*'('+n*')')\n",
    "C=[]\n",
    "for p in permutation(data):\n",
    "    B=''.join(p)\n",
    "    if B[0]=='(' and B[-1]==')' and B not in C and B[:int(len(data)/2)].count('(')>=int(len(data)/2)-1:\n",
    "       C.append(B)\n",
    "print(C)"
   ]
  }
 ],
 "metadata": {
  "kernelspec": {
   "display_name": "Python 3",
   "language": "python",
   "name": "python3"
  },
  "language_info": {
   "codemirror_mode": {
    "name": "ipython",
    "version": 3
   },
   "file_extension": ".py",
   "mimetype": "text/x-python",
   "name": "python",
   "nbconvert_exporter": "python",
   "pygments_lexer": "ipython3",
   "version": "3.7.6"
  }
 },
 "nbformat": 4,
 "nbformat_minor": 4
}
