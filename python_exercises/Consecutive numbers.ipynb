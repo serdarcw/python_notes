{
 "cells": [
  {
   "cell_type": "markdown",
   "metadata": {},
   "source": [
    "Ascending Consecutive Numbers\n",
    "Write a function that returns True if a string consists of ascending AND consecutive numbers.\n",
    "Examples\n",
    "ascending(\"232425\") ➞ True\n",
    "### Consecutive numbers 23, 24, 25\n",
    "ascending(\"2324256\") ➞ False\n",
    "### No matter how this string is divided, the numbers are not consecutive.\n",
    "ascending(\"444445\") ➞ True\n",
    "### Consecutive numbers 444 and 445.\n",
    "Notes\n",
    "A number can consist of any number of digits, so long as the numbers are adjacent to each other, and the string has at least two of them.Test.assert_equals(ascending(\"232425\"), True)\n",
    "Test.assert_equals(ascending(\"444445\"), True)\n",
    "Test.assert_equals(ascending(\"1234567\"), True)\n",
    "Test.assert_equals(ascending(\"123412351236\"), True)\n",
    "Test.assert_equals(ascending(\"57585960616263\"), True)\n",
    "Test.assert_equals(ascending(\"500001500002500003\"), True)\n",
    "Test.assert_equals(ascending(\"919920921\"), True)\n",
    "Test.assert_equals(ascending(\"2324256\"), False)\n",
    "Test.assert_equals(ascending(\"1235\"), False)\n",
    "Test.assert_equals(ascending(\"121316\"), False)\n",
    "Test.assert_equals(ascending(\"12131213\"), False)\n",
    "Test.assert_equals(ascending(\"54321\"), False)\n",
    "Test.assert_equals(ascending(\"56555453\"), False)\n",
    "Test.assert_equals(ascending(\"90090190290\"), False)\n",
    "Test.assert_equals(ascending(\"35236237238\"), False)"
   ]
  },
  {
   "cell_type": "code",
   "execution_count": 165,
   "metadata": {},
   "outputs": [
    {
     "name": "stdout",
     "output_type": "stream",
     "text": [
      "True\n"
     ]
    }
   ],
   "source": [
    "A='444445'\n",
    "for i in range(1,len(A)//2+1):\n",
    "    k,B,C=0,[],[]\n",
    "    for j in range(len(A)):\n",
    "        if len(A[k:k+i])==i and len(A[k+i:k+2*i])==i:\n",
    "            C.append([A[k:k+i],A[k+i:k+2*i]])\n",
    "            B.append(int(A[k:k+i])+1==int(A[k+i:k+2*i]))\n",
    "            k=k+i\n",
    "    if all(B) and C[-1][-1][-1]==A[-1]:\n",
    "        print(True)\n",
    "        break\n",
    "else:\n",
    "    print(False)"
   ]
  },
  {
   "cell_type": "code",
   "execution_count": null,
   "metadata": {},
   "outputs": [],
   "source": [
    "def ascending(txt):\n",
    "    for i in range(1, len(txt)):\n",
    "        numbers = int(txt[:i])\n",
    "        new_numbers = str(numbers)\n",
    "        if len(txt) % len(new_numbers):\n",
    "            continue\n",
    "        while len(new_numbers) < len(txt):\n",
    "            numbers += 1\n",
    "            new_numbers += str(numbers)\n",
    "            if new_numbers == txt:\n",
    "                return True\n",
    "                break\n",
    "    return False\n",
    "print(ascending(\"57585960616263\"))"
   ]
  },
  {
   "cell_type": "code",
   "execution_count": null,
   "metadata": {},
   "outputs": [],
   "source": [
    "def ascending(txt):\n",
    "    for i in range(1, len(txt)):\n",
    "        numbers = int(txt[:i])\n",
    "        new_numbers = str(numbers)\n",
    "        if len(txt) % len(new_numbers):\n",
    "            continue\n",
    "        while len(new_numbers) < len(txt):\n",
    "            numbers += 1\n",
    "            new_numbers += str(numbers)\n",
    "            if new_numbers == txt:\n",
    "                return True\n",
    "                break\n",
    "    return False\n",
    "print(ascending(\"57585960616263\"))"
   ]
  }
 ],
 "metadata": {
  "kernelspec": {
   "display_name": "Python 3",
   "language": "python",
   "name": "python3"
  },
  "language_info": {
   "codemirror_mode": {
    "name": "ipython",
    "version": 3
   },
   "file_extension": ".py",
   "mimetype": "text/x-python",
   "name": "python",
   "nbconvert_exporter": "python",
   "pygments_lexer": "ipython3",
   "version": "3.7.6"
  }
 },
 "nbformat": 4,
 "nbformat_minor": 4
}
