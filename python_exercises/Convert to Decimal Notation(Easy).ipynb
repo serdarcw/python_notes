{
 "cells": [
  {
   "cell_type": "code",
   "execution_count": 10,
   "metadata": {},
   "outputs": [
    {
     "name": "stdout",
     "output_type": "stream",
     "text": [
      "[0.45, 0.32, 0.97, 0.33]\n"
     ]
    }
   ],
   "source": [
    "https://edabit.com/challenge/NZwFY7HyeBTM25guM\n",
    "\n",
    "Convert to Decimal Notation\n",
    "Create a function to convert a list of percentages to their decimal equivalents.\n",
    "\n",
    "Examples\n",
    "convert_to_decimal([\"1%\", \"2%\", \"3%\"]) ➞ [0.01, 0.02, 0.03]\n",
    "\n",
    "convert_to_decimal([\"45%\", \"32%\", \"97%\", \"33%\"]) ➞ [0.45, 0.32, 0.97, 0.33]\n",
    "\n",
    "convert_to_decimal([\"33%\", \"98.1%\", \"56.44%\", \"100%\"]) ➞ [0.33, 0.981, 0.5644, 1]\n",
    "Notes\n",
    "N/A"
   ]
  },
  {
   "cell_type": "code",
   "execution_count": null,
   "metadata": {},
   "outputs": [],
   "source": [
    "A=[\"45%\", \"32%\", \"97%\", \"33%\"]\n",
    "B=[]\n",
    "for i in A:\n",
    "    B.append(eval(i[:-1]+'/'+'100'))\n",
    "print(B)"
   ]
  },
  {
   "cell_type": "code",
   "execution_count": 4,
   "metadata": {},
   "outputs": [
    {
     "data": {
      "text/plain": [
       "0.45"
      ]
     },
     "execution_count": 4,
     "metadata": {},
     "output_type": "execute_result"
    }
   ],
   "source": [
    "def convert_to_decimal(perc):\n",
    "\treturn [float(x[:-1])/100 for x in perc]"
   ]
  },
  {
   "cell_type": "code",
   "execution_count": null,
   "metadata": {},
   "outputs": [],
   "source": [
    "def convert_to_decimal(perc):\n",
    "\treturn [float(p[:-1]) * 0.01 for p in perc]"
   ]
  },
  {
   "cell_type": "code",
   "execution_count": null,
   "metadata": {},
   "outputs": [],
   "source": [
    "def convert_to_decimal(perc):\n",
    " a=[]\n",
    " b=0.0\n",
    " for i in perc:\n",
    "  b=float(i[:-1])\n",
    "  b=b/100\n",
    "  a.append(b)\n",
    "\n",
    " return a"
   ]
  },
  {
   "cell_type": "code",
   "execution_count": null,
   "metadata": {},
   "outputs": [],
   "source": [
    "def convert_to_decimal(A):\n",
    "\treturn [eval(i[:-1]+'/'+'100') for i in A]"
   ]
  }
 ],
 "metadata": {
  "kernelspec": {
   "display_name": "Python 3",
   "language": "python",
   "name": "python3"
  },
  "language_info": {
   "codemirror_mode": {
    "name": "ipython",
    "version": 3
   },
   "file_extension": ".py",
   "mimetype": "text/x-python",
   "name": "python",
   "nbconvert_exporter": "python",
   "pygments_lexer": "ipython3",
   "version": "3.7.6"
  }
 },
 "nbformat": 4,
 "nbformat_minor": 4
}
