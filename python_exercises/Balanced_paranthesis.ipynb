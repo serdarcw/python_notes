{
 "cells": [
  {
   "cell_type": "markdown",
   "metadata": {},
   "source": [
    "Here is another interview code challenge question used by the companies shown in the image attached;\n",
    "==========================\n",
    "Given a string containing just the characters '(', ')', '{', '}', '[' and ']', determine if the input string is valid.\n",
    "An input string is valid if:\n",
    "Open brackets must be closed by the same type of brackets.\n",
    "Open brackets must be closed in the correct order.\n",
    "Note that an empty string is also considered valid.\n",
    "Example 1:\n",
    "Input: \"()\"\n",
    "Output: true\n",
    "Example 2:\n",
    "Input: \"()[]{}\"\n",
    "Output: true\n",
    "Example 3:\n",
    "Input: \"(]\"\n",
    "Output: false\n",
    "Example 4:\n",
    "Input: \"([)]\"\n",
    "Output: false\n",
    "Example 5:\n",
    "Input: \"{[]}\"\n",
    "Output: true"
   ]
  },
  {
   "cell_type": "code",
   "execution_count": 81,
   "metadata": {},
   "outputs": [
    {
     "data": {
      "text/plain": [
       "False"
      ]
     },
     "execution_count": 81,
     "metadata": {},
     "output_type": "execute_result"
    }
   ],
   "source": [
    "def balance_parenth(A):\n",
    "    contrl, paranthes_dic = [], {\"(\": \")\", \"{\": \"}\", \"[\": \"]\"}\n",
    "    for par in A:\n",
    "        if par in paranthes_dic:\n",
    "            contrl.append(par)\n",
    "        elif paranthes_dic[contrl.pop()] != par or len(contrl) == 0:\n",
    "            return False\n",
    "    return len(contrl)==0\n",
    "balance_parenth('(())()')"
   ]
  }
 ],
 "metadata": {
  "kernelspec": {
   "display_name": "Python 3",
   "language": "python",
   "name": "python3"
  },
  "language_info": {
   "codemirror_mode": {
    "name": "ipython",
    "version": 3
   },
   "file_extension": ".py",
   "mimetype": "text/x-python",
   "name": "python",
   "nbconvert_exporter": "python",
   "pygments_lexer": "ipython3",
   "version": "3.7.6"
  }
 },
 "nbformat": 4,
 "nbformat_minor": 4
}
