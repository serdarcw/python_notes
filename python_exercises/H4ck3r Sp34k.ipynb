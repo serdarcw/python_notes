{
 "cells": [
  {
   "cell_type": "code",
   "execution_count": 21,
   "metadata": {},
   "outputs": [
    {
     "data": {
      "text/plain": [
       "'javascript is cool'"
      ]
     },
     "execution_count": 21,
     "metadata": {},
     "output_type": "execute_result"
    }
   ],
   "source": [
    "H4ck3r Sp34k\n",
    "Create a function that takes a string as an argument and returns a coded (h4ck3r 5p34k) version of the string.\n",
    "\n",
    "Examples\n",
    "hacker_speak(\"javascript is cool\") ➞ \"j4v45cr1pt 15 c00l\"\n",
    "\n",
    "hacker_speak(\"programming is fun\") ➞ \"pr0gr4mm1ng 15 fun\"\n",
    "\n",
    "hacker_speak(\"become a coder\") ➞ \"b3c0m3 4 c0d3r\"\n",
    "Notes\n",
    "In order to work properly, the function should replace all 'a's with 4, 'e's with 3, 'i's with 1, 'o's with 0, and 's's with 5."
   ]
  },
  {
   "cell_type": "code",
   "execution_count": null,
   "metadata": {},
   "outputs": [],
   "source": [
    "def hacker_speak(txt):\n",
    "\treturn txt.translate(str.maketrans('aeios', '43105'))"
   ]
  },
  {
   "cell_type": "code",
   "execution_count": null,
   "metadata": {},
   "outputs": [],
   "source": [
    "def hacker_speak(txt):\n",
    "\treturn txt.translate({ord(i): v for i, v in zip('aeios', '43105')})"
   ]
  },
  {
   "cell_type": "code",
   "execution_count": null,
   "metadata": {},
   "outputs": [],
   "source": [
    "def hacker_speak(txt):\n",
    "\thack = {'a': '4', 'e':'3', 'i':'1', 'o':'0','s':'5'}\n",
    "\t\n",
    "\tnew_str = ''\n",
    "\t\n",
    "\tfor ch in txt:\n",
    "\t\tif ch in hack:\n",
    "\t\t\tnew_str += hack[ch]\n",
    "\t\telse:\n",
    "\t\t\tnew_str += ch\n",
    "\treturn new_str"
   ]
  },
  {
   "cell_type": "code",
   "execution_count": null,
   "metadata": {},
   "outputs": [],
   "source": [
    "def hacker_speak(txt):\n",
    "\tB = txt.replace(\"a\",\"4\")\n",
    "\tC = B.replace(\"e\",\"3\")\n",
    "\tD = C.replace(\"o\",\"0\")\n",
    "\tE = D.replace(\"s\",\"5\")\n",
    "\tF = E.replace(\"i\",\"1\")\n",
    "\treturn F"
   ]
  },
  {
   "cell_type": "code",
   "execution_count": null,
   "metadata": {},
   "outputs": [],
   "source": [
    "def hacker_speak(txt):\n",
    "   asd= txt.replace(\"a\",\"4\").replace(\"e\", \"3\").replace(\"i\", \"1\").replace(\"o\", \"0\").replace(\"s\", \"5\")\n",
    "   return asd"
   ]
  },
  {
   "cell_type": "code",
   "execution_count": null,
   "metadata": {},
   "outputs": [],
   "source": [
    "def hacker_speak(txt):\n",
    "\td = {'a':'4', 'e':'3', 'i':'1', 'o':'0', 's':'5'}\n",
    "\ts = list(txt)\n",
    "\tfor i in range(len(s)):\n",
    "\t\t\te = s[i]\n",
    "\t\t\te = d.get(e.lower(), e)\n",
    "\t\t\ts[i] = e\n",
    "\treturn ''.join(s)"
   ]
  },
  {
   "cell_type": "code",
   "execution_count": null,
   "metadata": {},
   "outputs": [],
   "source": []
  },
  {
   "cell_type": "code",
   "execution_count": null,
   "metadata": {},
   "outputs": [],
   "source": []
  }
 ],
 "metadata": {
  "kernelspec": {
   "display_name": "Python 3",
   "language": "python",
   "name": "python3"
  },
  "language_info": {
   "codemirror_mode": {
    "name": "ipython",
    "version": 3
   },
   "file_extension": ".py",
   "mimetype": "text/x-python",
   "name": "python",
   "nbconvert_exporter": "python",
   "pygments_lexer": "ipython3",
   "version": "3.7.6"
  }
 },
 "nbformat": 4,
 "nbformat_minor": 4
}
