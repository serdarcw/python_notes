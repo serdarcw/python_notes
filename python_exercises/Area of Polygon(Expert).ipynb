{
 "cells": [
  {
   "cell_type": "markdown",
   "metadata": {},
   "source": [
    "https://edabit.com/challenge/Psu3YC5dLjpmDqduX\n",
    "\n",
    "Area of a Polygon\n",
    "Given a unordered list of the vertices of a convex polygon, find its area.\n",
    "\n",
    "Examples\n",
    "polygon([[2, 5], [5, 1], [-4, 3]]) ➞ 15.0\n",
    "\n",
    "polygon([[-1, 1], [1, 1], [-1, -1], [1, -1]]) ➞ 4.0\n",
    "\n",
    "polygon([[2, 2], [11, 2], [4, 10], [9, 7]]) ➞ 45.5\n",
    "\n",
    "polygon([[5, 3], [3, 4], [12, 8], [5, 11], [9, 5]]) ➞ 39.0\n",
    "Notes\n",
    "A convex polygon has all interior angles less than 180 degrees.\n",
    "The first example has only 3 vertices so this list is ordered by default."
   ]
  },
  {
   "cell_type": "code",
   "execution_count": 176,
   "metadata": {},
   "outputs": [
    {
     "name": "stdout",
     "output_type": "stream",
     "text": [
      "[5118.0, 4532.25]\n",
      "59253602.0\n"
     ]
    }
   ],
   "source": [
    "def polygon(A):\n",
    "\timport math\n",
    "\t[k,l]=[0,0]\n",
    "\t\n",
    "\tfor i in A:\n",
    "\t\tk+=i[0]      #This for loop calculate the center of polygon\n",
    "\t\tl+=i[1]\n",
    "\n",
    "\tB=[k/len(A),l/len(A)] #This is the center of polygon\n",
    "\t\n",
    "\tvectors=[[math.atan2(A[i][0]-B[0],A[i][1]-B[1]), A[i]] for i in range(len(A))]  #This calculate arctan degree between center of array and every vector\n",
    "\tlast_list=sorted(vectors, key= lambda x : x[0])   #This is sort the array based on arctan values\n",
    "\tlast_list1=[i[1] for i in last_list] \n",
    "\tlast_list1.append(last_list1[0])   #This is add first element of list to the end of array\n",
    "\n",
    "\tarea= lambda K,M: (K[1]*M[0]-K[0]*M[1])/2   \n",
    "\tsumm=0\n",
    "\tfor i in range(len(last_list1)-1):\n",
    "\t\tsumm+=area(last_list1[i],last_list1[i+1])     #this calculates area based on area formula of polygon \n",
    "\treturn summ"
   ]
  },
  {
   "cell_type": "markdown",
   "metadata": {},
   "source": [
    "Aşağıdaki üç tanım vektörlerin noktasal çarpımı, uzunluğu ve aralarındaki açıyı bulur"
   ]
  },
  {
   "cell_type": "code",
   "execution_count": 179,
   "metadata": {},
   "outputs": [
    {
     "name": "stdout",
     "output_type": "stream",
     "text": [
      "26\n",
      "2.8284271247461903\n",
      "0.6055446636049702\n"
     ]
    }
   ],
   "source": [
    "import math\n",
    "\n",
    "A=[2, 2]\n",
    "B=[11, 2]\n",
    "\n",
    "def dotproduct(u1,u2):\n",
    "    return sum((a*b) for a,b in zip(u1,u2))\n",
    "\n",
    "def lenght(u):\n",
    "    return math.sqrt(dotproduct(u,u))\n",
    "\n",
    "def angle(u1,u2):\n",
    "    return math.acos(dotproduct(u1,u2) / (lenght(u1)*lenght(u2)))\n",
    "\n",
    "print(dotproduct(A,B))\n",
    "print(lenght(A))\n",
    "print(angle(A,B))"
   ]
  },
  {
   "cell_type": "markdown",
   "metadata": {},
   "source": [
    "Başka çözümlerde aşağıdaki gibidir"
   ]
  },
  {
   "cell_type": "code",
   "execution_count": null,
   "metadata": {},
   "outputs": [],
   "source": [
    "from math import atan2\n",
    "\n",
    "def polygon(lst):\n",
    "    x, y = zip(*lst)\n",
    "    x_mid = sum(x)/len(lst)\n",
    "    y_mid = sum(y)/len(lst)\n",
    "    lst.sort(key=lambda x: atan2(x[1]-y_mid, x[0]-x_mid))\n",
    "    \n",
    "    pairs, total = zip(lst, lst[1:] + lst[:1]), 0\n",
    "    for [x1, y1], [x2, y2] in pairs:\n",
    "        total += x1*y2 - y1*x2\n",
    "    \n",
    "    return total/2"
   ]
  },
  {
   "cell_type": "code",
   "execution_count": null,
   "metadata": {},
   "outputs": [],
   "source": [
    "def polygon(lst):\n",
    "    # move the list to the first quarter\n",
    "    xm = min(lst)[0]\n",
    "    ym = min(lst, key=lambda x: x[1])[1]\n",
    "    lst = [[L[0] if xm > 0 else L[0] + (-1 * xm), L[1] if ym > 0 else (-1 * ym) + L[1]] for L in lst]\n",
    "    \n",
    "    # take the lower left point as reference\n",
    "    ref = min(lst)\n",
    "    \n",
    "    #sort verticies by their angle to reference point\n",
    "    from math import atan2\n",
    "    lst.pop(lst.index(ref))\n",
    "    lst = sorted(lst,key=lambda L:atan2(L[1]-ref[1],L[0]-ref[0]))\n",
    "    lst.insert(0, ref)\n",
    "    lst.append(ref)\n",
    "    \n",
    "    # general solution area = abs(sum(Xn * Yn+1 - Yn * Xn+1)/2)\n",
    "    return abs(0.5 * sum([T[0][0] * T[1][1] - T[0][1] * T[1][0] for T in zip(lst, lst[1:])]))"
   ]
  }
 ],
 "metadata": {
  "kernelspec": {
   "display_name": "Python 3",
   "language": "python",
   "name": "python3"
  },
  "language_info": {
   "codemirror_mode": {
    "name": "ipython",
    "version": 3
   },
   "file_extension": ".py",
   "mimetype": "text/x-python",
   "name": "python",
   "nbconvert_exporter": "python",
   "pygments_lexer": "ipython3",
   "version": "3.7.6"
  }
 },
 "nbformat": 4,
 "nbformat_minor": 4
}
